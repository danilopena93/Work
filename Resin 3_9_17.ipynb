{
 "cells": [
  {
   "cell_type": "markdown",
   "metadata": {},
   "source": [
    "This code is to process some of Freeport's PR-4891 Data in 2016 and early 2017 data. "
   ]
  },
  {
   "cell_type": "code",
   "execution_count": 32,
   "metadata": {
    "collapsed": false
   },
   "outputs": [],
   "source": [
    "import numpy as np\n",
    "import pandas as pd\n",
    "\n",
    "import matplotlib.pyplot as plt\n",
    "%matplotlib inline\n",
    "files = ['/PR-4891_Samples_1_1_16 to 3_8_17.csv','/162 Batches.xlsx']\n",
    "direct = 'C:/Users/danil/Documents/GitHub/Work'\n",
    "\n",
    "df = pd.read_csv(direct+files[0], encoding = 'utf-16')\n",
    "v162 = pd.read_excel(direct+files[1], sheetname = 1)\n",
    "\n",
    "first = df.columns[0]\n",
    "df.loc[-1] = first # adding a row\n",
    "df.index = df.index + 1  # shifting index\n",
    "df = df.sort_index()  # sorting by index\n",
    "df.columns = ['start']"
   ]
  },
  {
   "cell_type": "code",
   "execution_count": 33,
   "metadata": {
    "collapsed": false
   },
   "outputs": [
    {
     "data": {
      "text/html": [
       "<div>\n",
       "<table border=\"1\" class=\"dataframe\">\n",
       "  <thead>\n",
       "    <tr style=\"text-align: right;\">\n",
       "      <th></th>\n",
       "      <th>Batch ID</th>\n",
       "      <th>Start Time</th>\n",
       "      <th>End Time</th>\n",
       "    </tr>\n",
       "  </thead>\n",
       "  <tbody>\n",
       "    <tr>\n",
       "      <th>0</th>\n",
       "      <td>FP7C0452</td>\n",
       "      <td>2017-03-09 13:53:10.929</td>\n",
       "      <td>2017-03-09 13:53:25.905</td>\n",
       "    </tr>\n",
       "    <tr>\n",
       "      <th>1</th>\n",
       "      <td>FP7C0452</td>\n",
       "      <td>2017-03-08 13:15:59.079</td>\n",
       "      <td>2017-03-09 13:53:10.897</td>\n",
       "    </tr>\n",
       "    <tr>\n",
       "      <th>2</th>\n",
       "      <td>FP7C0452</td>\n",
       "      <td>2017-03-08 13:14:40.206</td>\n",
       "      <td>2017-03-08 13:15:59.001</td>\n",
       "    </tr>\n",
       "    <tr>\n",
       "      <th>3</th>\n",
       "      <td>FP7C0452</td>\n",
       "      <td>2017-03-08 13:14:21.876</td>\n",
       "      <td>2017-03-08 13:14:40.128</td>\n",
       "    </tr>\n",
       "    <tr>\n",
       "      <th>4</th>\n",
       "      <td>FP7C0433</td>\n",
       "      <td>2017-03-08 12:57:22.996</td>\n",
       "      <td>2017-03-08 12:57:37.956</td>\n",
       "    </tr>\n",
       "  </tbody>\n",
       "</table>\n",
       "</div>"
      ],
      "text/plain": [
       "   Batch ID              Start Time                End Time\n",
       "0  FP7C0452 2017-03-09 13:53:10.929 2017-03-09 13:53:25.905\n",
       "1  FP7C0452 2017-03-08 13:15:59.079 2017-03-09 13:53:10.897\n",
       "2  FP7C0452 2017-03-08 13:14:40.206 2017-03-08 13:15:59.001\n",
       "3  FP7C0452 2017-03-08 13:14:21.876 2017-03-08 13:14:40.128\n",
       "4  FP7C0433 2017-03-08 12:57:22.996 2017-03-08 12:57:37.956"
      ]
     },
     "execution_count": 33,
     "metadata": {},
     "output_type": "execute_result"
    }
   ],
   "source": [
    "v162.head()"
   ]
  },
  {
   "cell_type": "code",
   "execution_count": 34,
   "metadata": {
    "collapsed": false
   },
   "outputs": [],
   "source": [
    "df = df['start'].str.split('\\t', 3, expand=True)\n",
    "df.columns = ['date','time','batch_id','MW']"
   ]
  },
  {
   "cell_type": "code",
   "execution_count": 35,
   "metadata": {
    "collapsed": false
   },
   "outputs": [
    {
     "data": {
      "text/html": [
       "<div>\n",
       "<table border=\"1\" class=\"dataframe\">\n",
       "  <thead>\n",
       "    <tr style=\"text-align: right;\">\n",
       "      <th></th>\n",
       "      <th>date</th>\n",
       "      <th>time</th>\n",
       "      <th>batch_id</th>\n",
       "      <th>MW</th>\n",
       "    </tr>\n",
       "  </thead>\n",
       "  <tbody>\n",
       "    <tr>\n",
       "      <th>0</th>\n",
       "      <td>01/03/2016</td>\n",
       "      <td>04:31:27</td>\n",
       "      <td>FP6A0361</td>\n",
       "      <td>3342.0</td>\n",
       "    </tr>\n",
       "    <tr>\n",
       "      <th>1</th>\n",
       "      <td>01/03/2016</td>\n",
       "      <td>04:31:27</td>\n",
       "      <td>FP6A0361</td>\n",
       "      <td>3566.0</td>\n",
       "    </tr>\n",
       "    <tr>\n",
       "      <th>2</th>\n",
       "      <td>01/03/2016</td>\n",
       "      <td>04:31:27</td>\n",
       "      <td>FP6A0361</td>\n",
       "      <td>3740.0</td>\n",
       "    </tr>\n",
       "    <tr>\n",
       "      <th>3</th>\n",
       "      <td>01/03/2016</td>\n",
       "      <td>04:31:27</td>\n",
       "      <td>FP6A0361</td>\n",
       "      <td>3896.0</td>\n",
       "    </tr>\n",
       "    <tr>\n",
       "      <th>4</th>\n",
       "      <td>01/03/2016</td>\n",
       "      <td>17:02:07</td>\n",
       "      <td>FP6A0371</td>\n",
       "      <td>3102.0</td>\n",
       "    </tr>\n",
       "  </tbody>\n",
       "</table>\n",
       "</div>"
      ],
      "text/plain": [
       "         date      time  batch_id            MW\n",
       "0  01/03/2016  04:31:27  FP6A0361        3342.0\n",
       "1  01/03/2016  04:31:27  FP6A0361        3566.0\n",
       "2  01/03/2016  04:31:27  FP6A0361        3740.0\n",
       "3  01/03/2016  04:31:27  FP6A0361        3896.0\n",
       "4  01/03/2016  17:02:07  FP6A0371        3102.0"
      ]
     },
     "execution_count": 35,
     "metadata": {},
     "output_type": "execute_result"
    }
   ],
   "source": [
    "df.head()"
   ]
  },
  {
   "cell_type": "code",
   "execution_count": 36,
   "metadata": {
    "collapsed": false
   },
   "outputs": [
    {
     "data": {
      "text/html": [
       "<div>\n",
       "<table border=\"1\" class=\"dataframe\">\n",
       "  <thead>\n",
       "    <tr style=\"text-align: right;\">\n",
       "      <th></th>\n",
       "      <th>date</th>\n",
       "      <th>time</th>\n",
       "      <th>batch_id</th>\n",
       "      <th>MW</th>\n",
       "    </tr>\n",
       "  </thead>\n",
       "  <tbody>\n",
       "    <tr>\n",
       "      <th>0</th>\n",
       "      <td>01/03/2016</td>\n",
       "      <td>04:31:27</td>\n",
       "      <td>FP6A0361</td>\n",
       "      <td>3342.0</td>\n",
       "    </tr>\n",
       "    <tr>\n",
       "      <th>1</th>\n",
       "      <td>01/03/2016</td>\n",
       "      <td>04:31:27</td>\n",
       "      <td>FP6A0361</td>\n",
       "      <td>3566.0</td>\n",
       "    </tr>\n",
       "    <tr>\n",
       "      <th>2</th>\n",
       "      <td>01/03/2016</td>\n",
       "      <td>04:31:27</td>\n",
       "      <td>FP6A0361</td>\n",
       "      <td>3740.0</td>\n",
       "    </tr>\n",
       "    <tr>\n",
       "      <th>3</th>\n",
       "      <td>01/03/2016</td>\n",
       "      <td>04:31:27</td>\n",
       "      <td>FP6A0361</td>\n",
       "      <td>3896.0</td>\n",
       "    </tr>\n",
       "    <tr>\n",
       "      <th>7</th>\n",
       "      <td>01/04/2016</td>\n",
       "      <td>06:21:53</td>\n",
       "      <td>FP6A0378</td>\n",
       "      <td>2894.0</td>\n",
       "    </tr>\n",
       "  </tbody>\n",
       "</table>\n",
       "</div>"
      ],
      "text/plain": [
       "         date      time  batch_id            MW\n",
       "0  01/03/2016  04:31:27  FP6A0361        3342.0\n",
       "1  01/03/2016  04:31:27  FP6A0361        3566.0\n",
       "2  01/03/2016  04:31:27  FP6A0361        3740.0\n",
       "3  01/03/2016  04:31:27  FP6A0361        3896.0\n",
       "7  01/04/2016  06:21:53  FP6A0378        2894.0"
      ]
     },
     "execution_count": 36,
     "metadata": {},
     "output_type": "execute_result"
    }
   ],
   "source": [
    "v162_batches = v162['Batch ID'].unique()\n",
    "r1050_v162 = df[df['batch_id'].isin(v162_batches)]\n",
    "r1050_v162.head()"
   ]
  },
  {
   "cell_type": "code",
   "execution_count": 102,
   "metadata": {
    "collapsed": false
   },
   "outputs": [
    {
     "name": "stdout",
     "output_type": "stream",
     "text": [
      "DescribeResult(nobs=136, minmax=(1, 11), mean=3.2426470588235294, variance=3.3406862745098036, skewness=0.9311956746383278, kurtosis=1.863064341831123)\n"
     ]
    },
    {
     "data": {
      "image/png": "[encoded data removed]",
      "text/plain": [
       "<matplotlib.figure.Figure at 0x20fc58d8f60>"
      ]
     },
     "metadata": {},
     "output_type": "display_data"
    }
   ],
   "source": [
    "from scipy import stats\n",
    "# def start_mw(df):\n",
    "unique_batch = df['batch_id'].unique\n",
    "n_sample = df['batch_id'].value_counts()\n",
    "n_sample_all = n_sample.values\n",
    "plt.hist(n_sample_all)\n",
    "plt.xlabel('Number of Samples')\n",
    "plt.title('PR-4891 Samples before Continue/Stock')\n",
    "print(stats.describe(n_sample_all))"
   ]
  },
  {
   "cell_type": "markdown",
   "metadata": {},
   "source": [
    "We see a skew to the right which tells us that we have had some problem batches. The right and left sides of the curve are of interest. We have to take into account whether or not V162 was used or not. Once we do, I will investigate the first samples. This may tell us the different starting points when transferred to R1050."
   ]
  },
  {
   "cell_type": "code",
   "execution_count": 52,
   "metadata": {
    "collapsed": false
   },
   "outputs": [
    {
     "data": {
      "text/plain": [
       "Index(['FP6E0478', 'FP6L0654', 'FP6M0716', 'FP6M0534', 'FP7C0418', 'FP6M0326',\n",
       "       'FP6K0615', 'FP7A0430', 'FP6G0428', 'FP6B0746',\n",
       "       ...\n",
       "       'FP6B0586', 'FP6F0527', 'FP6B0782', 'FP6G0684', 'FP6D0603', 'FP6J0416',\n",
       "       'FP6F0480', 'FP6M0657', 'FP6J0395', 'FP6F0628'],\n",
       "      dtype='object', length=136)"
      ]
     },
     "execution_count": 52,
     "metadata": {},
     "output_type": "execute_result"
    }
   ],
   "source": [
    "n_sample.index"
   ]
  },
  {
   "cell_type": "code",
   "execution_count": 53,
   "metadata": {
    "collapsed": false
   },
   "outputs": [],
   "source": [
    "def create_dic(n_sample,df):\n",
    "    dic = {}\n",
    "    for batch in n_sample.index:\n",
    "        df_1 = df[df['batch_id'] == batch]\n",
    "        dic[batch] = (df_1['MW'])\n",
    "    return dic"
   ]
  },
  {
   "cell_type": "code",
   "execution_count": 54,
   "metadata": {
    "collapsed": false
   },
   "outputs": [
    {
     "data": {
      "text/plain": [
       "{'FP6A0361': 0          3342.0\n",
       " 1          3566.0\n",
       " 2          3740.0\n",
       " 3          3896.0\n",
       " Name: MW, dtype: object, 'FP6A0371': 4          3102.0\n",
       " 5          3350.0\n",
       " 6          3815.0\n",
       " Name: MW, dtype: object, 'FP6A0378': 7           2894.0\n",
       " 8           3378.0\n",
       " 9           3598.0\n",
       " 10          4175.0\n",
       " Name: MW, dtype: object, 'FP6A0381': 11          3134.0\n",
       " 12          3248.0\n",
       " 13          3409.0\n",
       " 14          3858.0\n",
       " Name: MW, dtype: object, 'FP6A0465': 15          2867.0\n",
       " 16          3099.0\n",
       " 17          3585.0\n",
       " 18          3910.0\n",
       " Name: MW, dtype: object, 'FP6A0483': 19          2758.0\n",
       " 20          2981.0\n",
       " 21          3371.0\n",
       " 22          3812.0\n",
       " Name: MW, dtype: object, 'FP6A0489': 23          2857.0\n",
       " 24          3239.0\n",
       " 25          3658.0\n",
       " 26          3898.0\n",
       " Name: MW, dtype: object, 'FP6A0559': 30          3208.0\n",
       " Name: MW, dtype: object, 'FP6A0561': 27          2908.0\n",
       " 28          3481.0\n",
       " 29          4640.0\n",
       " Name: MW, dtype: object, 'FP6A0576': 31          3325.0\n",
       " 32          3925.0\n",
       " Name: MW, dtype: object, 'FP6A0578': 33          3281.0\n",
       " 34          3743.0\n",
       " 35          4078.0\n",
       " Name: MW, dtype: object, 'FP6A0607': 36          4074.0\n",
       " Name: MW, dtype: object, 'FP6A0617': 37          3769.0\n",
       " 38          3814.0\n",
       " Name: MW, dtype: object, 'FP6A0700': 39          4020.0\n",
       " Name: MW, dtype: object, 'FP6A0719': 40          4214.0\n",
       " Name: MW, dtype: object, 'FP6A0746': 41          3367.0\n",
       " 42          3646.0\n",
       " 43          3967.0\n",
       " Name: MW, dtype: object, 'FP6A0830': 44          3154.0\n",
       " 45          3343.0\n",
       " 46          3873.0\n",
       " Name: MW, dtype: object, 'FP6B0304': 47          2858.0\n",
       " 48          2919.0\n",
       " 49          3626.0\n",
       " 50          3914.0\n",
       " Name: MW, dtype: object, 'FP6B0352': 51          2570.0\n",
       " 52          2843.0\n",
       " 53          3001.0\n",
       " 54          3399.0\n",
       " 55          4011.0\n",
       " Name: MW, dtype: object, 'FP6B0452': 56          2598.0\n",
       " 57          3078.0\n",
       " 58          3564.0\n",
       " 59          4479.0\n",
       " Name: MW, dtype: object, 'FP6B0489': 60          2748.0\n",
       " 61          3097.0\n",
       " 62          3535.0\n",
       " 63          4103.0\n",
       " Name: MW, dtype: object, 'FP6B0538': 64          2416.0\n",
       " 65          2807.0\n",
       " 66          3615.0\n",
       " 67          4434.0\n",
       " Name: MW, dtype: object, 'FP6B0559': 68          2943.0\n",
       " 69          3298.0\n",
       " 70          3516.0\n",
       " 71          4351.0\n",
       " Name: MW, dtype: object, 'FP6B0583': 72          3528.0\n",
       " 73          3903.0\n",
       " Name: MW, dtype: object, 'FP6B0586': 74          3814.0\n",
       " Name: MW, dtype: object, 'FP6B0649': 75          2839.0\n",
       " 76          3020.0\n",
       " 77          3619.0\n",
       " 78          4456.0\n",
       " Name: MW, dtype: object, 'FP6B0679': 79          3540.0\n",
       " 80          3821.0\n",
       " Name: MW, dtype: object, 'FP6B0746': 81          2998.0\n",
       " 82          3255.0\n",
       " 83          3506.0\n",
       " 84          3726.0\n",
       " 85          3833.0\n",
       " Name: MW, dtype: object, 'FP6B0754': 86          3734.0\n",
       " 87          4411.0\n",
       " Name: MW, dtype: object, 'FP6B0782': 88          4436.0\n",
       " Name: MW, dtype: object, 'FP6C0404': 89          3736.0\n",
       " 90          3893.0\n",
       " Name: MW, dtype: object, 'FP6C0452': 91          3588.0\n",
       " 92          3759.0\n",
       " 93          3714.0\n",
       " 94          3869.0\n",
       " Name: MW, dtype: object, 'FP6C0493': 95          3092.0\n",
       " 96          3761.0\n",
       " 97          3918.0\n",
       " Name: MW, dtype: object, 'FP6C0565': 98           2244.0\n",
       " 99           2879.0\n",
       " 100          3117.0\n",
       " 101          3856.0\n",
       " Name: MW, dtype: object, 'FP6C0580': 102          3508.0\n",
       " 103          3144.0\n",
       " 104          3245.0\n",
       " 105          3905.0\n",
       " Name: MW, dtype: object, 'FP6C0619': 106          2550.0\n",
       " 107          2660.0\n",
       " 108          2932.0\n",
       " 109          4422.0\n",
       " Name: MW, dtype: object, 'FP6C0648': 110          2818.0\n",
       " 111          3262.0\n",
       " 112          3872.0\n",
       " Name: MW, dtype: object, 'FP6C0741': 113          3325.0\n",
       " 114          3357.0\n",
       " 115          3731.0\n",
       " 116          3987.0\n",
       " Name: MW, dtype: object, 'FP6C0826': 117          4096.0\n",
       " Name: MW, dtype: object, 'FP6D0400': 118          3791.0\n",
       " 119          4517.0\n",
       " Name: MW, dtype: object, 'FP6D0414': 120          4086.0\n",
       " Name: MW, dtype: object, 'FP6D0546': 121          2702.0\n",
       " 122          3212.0\n",
       " 123          3839.0\n",
       " Name: MW, dtype: object, 'FP6D0568': 124          2825.0\n",
       " 125          3107.0\n",
       " 126          3676.0\n",
       " 127          4406.0\n",
       " Name: MW, dtype: object, 'FP6D0603': 128          3984.0\n",
       " Name: MW, dtype: object, 'FP6D0702': 129          3273.0\n",
       " 130          3487.0\n",
       " 131          4062.0\n",
       " Name: MW, dtype: object, 'FP6E0430': 132          2515.0\n",
       " 133          2674.0\n",
       " 134          2974.0\n",
       " 135          3353.0\n",
       " 136          3804.0\n",
       " Name: MW, dtype: object, 'FP6E0478': 137          3491.0\n",
       " 138          3612.0\n",
       " 139          3642.0\n",
       " 140          3651.0\n",
       " 141          3640.0\n",
       " 142          3469.0\n",
       " 143          3547.0\n",
       " 144          3625.0\n",
       " 145          3521.0\n",
       " 146          3529.0\n",
       " 147          3869.0\n",
       " Name: MW, dtype: object, 'FP6E0543': 148          3834.0\n",
       " Name: MW, dtype: object, 'FP6E0571': 149          2877.0\n",
       " 150          3037.0\n",
       " 151          3752.0\n",
       " 152          4367.0\n",
       " Name: MW, dtype: object, 'FP6E0622': 153          4229.0\n",
       " Name: MW, dtype: object, 'FP6E0631': 154          4154.0\n",
       " 155          4372.0\n",
       " Name: MW, dtype: object, 'FP6E0744': 156          3343.0\n",
       " 157          4211.0\n",
       " Name: MW, dtype: object, 'FP6E0842': 158          2059.0\n",
       " 159          2487.0\n",
       " 160          3292.0\n",
       " 161          3616.0\n",
       " 162          4161.0\n",
       " Name: MW, dtype: object, 'FP6E0865': 163          3979.0\n",
       " Name: MW, dtype: object, 'FP6E0909': 164          4431.0\n",
       " Name: MW, dtype: object, 'FP6F0314': 165          3821.0\n",
       " Name: MW, dtype: object, 'FP6F0480': 166          4146.0\n",
       " Name: MW, dtype: object, 'FP6F0527': 167          4086.0\n",
       " Name: MW, dtype: object, 'FP6F0542': 168          2775.0\n",
       " 169          3033.0\n",
       " 170          4260.0\n",
       " Name: MW, dtype: object, 'FP6F0590': 171          3070.0\n",
       " 172          3300.0\n",
       " 173          4022.0\n",
       " Name: MW, dtype: object, 'FP6F0616': 174          4128.0\n",
       " Name: MW, dtype: object, 'FP6F0628': 175          4369.0\n",
       " Name: MW, dtype: object, 'FP6F0757': 176          2864.0\n",
       " 177          3101.0\n",
       " 178          3542.0\n",
       " 179          4061.0\n",
       " Name: MW, dtype: object, 'FP6F0836': 180          2981.0\n",
       " 181          3708.0\n",
       " 182          3832.0\n",
       " Name: MW, dtype: object, 'FP6G0301': 183          4319.0\n",
       " 184          4319.0\n",
       " Name: MW, dtype: object, 'FP6G0428': 185          2760.0\n",
       " 186          3209.0\n",
       " 187          3414.0\n",
       " 188          3558.0\n",
       " 189          3772.0\n",
       " 190          3936.0\n",
       " Name: MW, dtype: object, 'FP6G0446': 191          3111.0\n",
       " 192          3494.0\n",
       " 193          4077.0\n",
       " Name: MW, dtype: object, 'FP6G0584': 194          3024.0\n",
       " 195          3204.0\n",
       " 196          4128.0\n",
       " 197          3555.0\n",
       " 198          3828.0\n",
       " Name: MW, dtype: object, 'FP6G0638': 209          4156.0\n",
       " Name: MW, dtype: object, 'FP6G0649': 199          3063.0\n",
       " 200          3542.0\n",
       " 201          3700.0\n",
       " 202          3947.0\n",
       " Name: MW, dtype: object, 'FP6G0664': 203          3133.0\n",
       " 204          3230.0\n",
       " 205          3335.0\n",
       " 206          3556.0\n",
       " 207          3883.0\n",
       " Name: MW, dtype: object, 'FP6G0684': 208          4239.0\n",
       " Name: MW, dtype: object, 'FP6H0450': 210          3045.0\n",
       " 211          4181.0\n",
       " Name: MW, dtype: object, 'FP6H0477': 212          3158.0\n",
       " 213          5655.0\n",
       " Name: MW, dtype: object, 'FP6H0569': 214          3083.0\n",
       " 215          3483.0\n",
       " 216          3778.0\n",
       " 217          4354.0\n",
       " Name: MW, dtype: object, 'FP6H0739': 218          2729.0\n",
       " 219          3259.0\n",
       " 220          3666.0\n",
       " 221          3719.0\n",
       " 222          3817.0\n",
       " Name: MW, dtype: object, 'FP6H0873': 223          2508.0\n",
       " 224          3101.0\n",
       " 225          3544.0\n",
       " 226          3885.0\n",
       " Name: MW, dtype: object, 'FP6J0267': 360          4042.0\n",
       " 361          4042.0\n",
       " Name: MW, dtype: object, 'FP6J0286': 227          2627.0\n",
       " 228          3103.0\n",
       " 229          3600.0\n",
       " 230          3900.0\n",
       " Name: MW, dtype: object, 'FP6J0314': 231          2820.0\n",
       " 232          3081.0\n",
       " 233          3462.0\n",
       " 234          3951.0\n",
       " Name: MW, dtype: object, 'FP6J0328': 235          2280.0\n",
       " 236          3068.0\n",
       " 237          3536.0\n",
       " 238          3843.0\n",
       " Name: MW, dtype: object, 'FP6J0352': 239          3351.0\n",
       " 240          3757.0\n",
       " 241          3952.0\n",
       " Name: MW, dtype: object, 'FP6J0385': 242          3696.0\n",
       " 243          3953.0\n",
       " Name: MW, dtype: object, 'FP6J0395': 244          3902.0\n",
       " Name: MW, dtype: object, 'FP6J0407': 245          3856.0\n",
       " Name: MW, dtype: object, 'FP6J0416': 246          4016.0\n",
       " Name: MW, dtype: object, 'FP6J0508': 247          3181.0\n",
       " 248          3428.0\n",
       " 249          3797.0\n",
       " 250          3846.0\n",
       " Name: MW, dtype: object, 'FP6J0521': 251          3096.0\n",
       " 252          3414.0\n",
       " 253          3746.0\n",
       " 254          3910.0\n",
       " Name: MW, dtype: object, 'FP6J0577': 255          4548.0\n",
       " Name: MW, dtype: object, 'FP6J0635': 256          3667.0\n",
       " 257          3746.0\n",
       " 258          4023.0\n",
       " Name: MW, dtype: object, 'FP6J0657': 259          3302.0\n",
       " 260          3606.0\n",
       " 261          3836.0\n",
       " Name: MW, dtype: object, 'FP6J0681': 262          3458.0\n",
       " 263          3851.0\n",
       " Name: MW, dtype: object, 'FP6J0687': 264          3180.0\n",
       " 265          3764.0\n",
       " 266          3972.0\n",
       " Name: MW, dtype: object, 'FP6J0738': 267          2537.0\n",
       " 268          3020.0\n",
       " 269          3524.0\n",
       " 270          3949.0\n",
       " Name: MW, dtype: object, 'FP6K0310': 271          2665.0\n",
       " 272          3250.0\n",
       " 273          3731.0\n",
       " 274          3953.0\n",
       " Name: MW, dtype: object, 'FP6K0346': 275          3792.0\n",
       " 276          3847.0\n",
       " Name: MW, dtype: object, 'FP6K0478': 277          2794.0\n",
       " 278          3128.0\n",
       " 279          3525.0\n",
       " 280          4029.0\n",
       " Name: MW, dtype: object, 'FP6K0541': 281          2853.0\n",
       " 282          3072.0\n",
       " 283          3629.0\n",
       " 284          4075.0\n",
       " Name: MW, dtype: object, 'FP6K0562': 317          2688.0\n",
       " 318          3172.0\n",
       " 319          3515.0\n",
       " 320          3953.0\n",
       " Name: MW, dtype: object, 'FP6K0570': 285          3202.0\n",
       " 286          3425.0\n",
       " 287          4001.0\n",
       " Name: MW, dtype: object, 'FP6K0615': 288          3141.0\n",
       " 289          3190.0\n",
       " 290          3450.0\n",
       " 291          3465.0\n",
       " 292          3763.0\n",
       " 293          3723.0\n",
       " 294          3965.0\n",
       " Name: MW, dtype: object, 'FP6K0626': 295          2487.0\n",
       " 296          3309.0\n",
       " 297          3628.0\n",
       " 298          3953.0\n",
       " Name: MW, dtype: object, 'FP6K0669': 299          2894.0\n",
       " 300          3397.0\n",
       " 301          3757.0\n",
       " 302          3990.0\n",
       " Name: MW, dtype: object, 'FP6K0706': 303          3813.0\n",
       " Name: MW, dtype: object, 'FP6K0775': 304          3512.0\n",
       " 305          3820.0\n",
       " Name: MW, dtype: object, 'FP6K0795': 306          3476.0\n",
       " 307          3863.0\n",
       " Name: MW, dtype: object, 'FP6L0274': 308          2578.0\n",
       " 309          3018.0\n",
       " 310          3595.0\n",
       " 311          3881.0\n",
       " Name: MW, dtype: object, 'FP6L0438': 316          3985.0\n",
       " Name: MW, dtype: object, 'FP6L0458': 312          2903.0\n",
       " 313          3331.0\n",
       " 314          3709.0\n",
       " 315          3902.0\n",
       " Name: MW, dtype: object, 'FP6L0472': 321          3882.0\n",
       " Name: MW, dtype: object, 'FP6L0538': 322          3548.0\n",
       " 323          3778.0\n",
       " 324          3859.0\n",
       " Name: MW, dtype: object, 'FP6L0585': 325          2864.0\n",
       " 326          3101.0\n",
       " 327          3616.0\n",
       " 328          3677.0\n",
       " 329          3872.0\n",
       " Name: MW, dtype: object, 'FP6L0654': 330          2035.0\n",
       " 331          2302.0\n",
       " 332          2573.0\n",
       " 333          2777.0\n",
       " 334          3177.0\n",
       " 335          3717.0\n",
       " 336          3642.0\n",
       " 337          3731.0\n",
       " 338          3994.0\n",
       " Name: MW, dtype: object, 'FP6M0326': 339          2256.0\n",
       " 340          2698.0\n",
       " 341          3128.0\n",
       " 342          3525.0\n",
       " 343          3827.0\n",
       " 344          3795.0\n",
       " 345          4048.0\n",
       " Name: MW, dtype: object, 'FP6M0515': 346          2963.0\n",
       " 347          3101.0\n",
       " 348          3103.0\n",
       " 349          3192.0\n",
       " 350          3870.0\n",
       " Name: MW, dtype: object, 'FP6M0534': 351          2408.0\n",
       " 352          2501.0\n",
       " 353          2892.0\n",
       " 354          3265.0\n",
       " 355          3423.0\n",
       " 356          3726.0\n",
       " 357          3998.0\n",
       " Name: MW, dtype: object, 'FP6M0657': 358          4079.0\n",
       " Name: MW, dtype: object, 'FP6M0662': 359          4128.0\n",
       " Name: MW, dtype: object, 'FP6M0716': 362          3098.0\n",
       " 363          3207.0\n",
       " 364          3217.0\n",
       " 365          3276.0\n",
       " 366          3633.0\n",
       " 367          3276.0\n",
       " 368          3593.0\n",
       " 369          3829.0\n",
       " Name: MW, dtype: object, 'FP6M0745': 370          3716.0\n",
       " 371          3759.0\n",
       " 372          3797.0\n",
       " 373          4124.0\n",
       " Name: MW, dtype: object, 'FP7A0323': 374          3187.0\n",
       " 375          3246.0\n",
       " 376          3612.0\n",
       " 377          3841.0\n",
       " 378          3841.0\n",
       " Name: MW, dtype: object, 'FP7A0430': 379          2849.0\n",
       " 380          2962.0\n",
       " 381          3142.0\n",
       " 382          3394.0\n",
       " 383          3516.0\n",
       " 384          3722.0\n",
       " 385          4000.0\n",
       " Name: MW, dtype: object, 'FP7A0503': 386          2743.0\n",
       " 387          2951.0\n",
       " 388          3145.0\n",
       " 389          3770.0\n",
       " 390          3956.0\n",
       " Name: MW, dtype: object, 'FP7A0551': 391          2670.0\n",
       " 392          2796.0\n",
       " 393          3536.0\n",
       " 394          3522.0\n",
       " 395          3923.0\n",
       " Name: MW, dtype: object, 'FP7A0599': 396          2933.0\n",
       " 397          3107.0\n",
       " 398          3529.0\n",
       " 399          3794.0\n",
       " 400          4034.0\n",
       " Name: MW, dtype: object, 'FP7A0675': 401          3774.0\n",
       " 402          3997.0\n",
       " Name: MW, dtype: object, 'FP7A0774': 403          3234.0\n",
       " 404          3398.0\n",
       " 405          3413.0\n",
       " 406          3909.0\n",
       " Name: MW, dtype: object, 'FP7A0811': 407          2857.0\n",
       " 408          3314.0\n",
       " 409          3628.0\n",
       " 410          3788.0\n",
       " 411          3988.0\n",
       " Name: MW, dtype: object, 'FP7A0838': 412          3042.0\n",
       " 413          3237.0\n",
       " 414          3432.0\n",
       " 415          3570.0\n",
       " 416          3853.0\n",
       " Name: MW, dtype: object, 'FP7B0377': 417          3088.0\n",
       " 418          3179.0\n",
       " 419          3327.0\n",
       " 420          3856.0\n",
       " Name: MW, dtype: object, 'FP7B0477': 421          4112.0\n",
       " Name: MW, dtype: object, 'FP7B0497': 422          3180.0\n",
       " 423          3460.0\n",
       " 424          3868.0\n",
       " Name: MW, dtype: object, 'FP7B0521': 425          2520.0\n",
       " 426          3086.0\n",
       " 427          3468.0\n",
       " 428          3885.0\n",
       " Name: MW, dtype: object, 'FP7B0569': 429          4677.0\n",
       " Name: MW, dtype: object, 'FP7B0745': 430          3147.0\n",
       " 431          3377.0\n",
       " 432          3632.0\n",
       " 433          3848.0\n",
       " Name: MW, dtype: object, 'FP7C0418': 434          2957.0\n",
       " 435          3023.0\n",
       " 436          3324.0\n",
       " 437          3606.0\n",
       " 438          3514.0\n",
       " 439          3574.0\n",
       " 440          4083.0\n",
       " Name: MW, dtype: object}"
      ]
     },
     "execution_count": 54,
     "metadata": {},
     "output_type": "execute_result"
    }
   ],
   "source": [
    "create_dic(n_sample,df)"
   ]
  },
  {
   "cell_type": "code",
   "execution_count": 56,
   "metadata": {
    "collapsed": false
   },
   "outputs": [],
   "source": [
    "def first_analysis(dic):\n",
    "    first = []\n",
    "    for key, value in dic.items():\n",
    "        first.append(float(value.values[0].split('      ')[1]))\n",
    "    return first"
   ]
  },
  {
   "cell_type": "code",
   "execution_count": 63,
   "metadata": {
    "collapsed": false
   },
   "outputs": [
    {
     "data": {
      "text/plain": [
       "DescribeResult(nobs=89, minmax=(2059.0, 4369.0), mean=3118.2584269662921, variance=271526.44382022473, skewness=0.5983791678357544, kurtosis=-0.37478038237791633)"
      ]
     },
     "execution_count": 63,
     "metadata": {},
     "output_type": "execute_result"
    },
    {
     "data": {
      "image/png": "[encoded data removed]",
      "text/plain": [
       "<matplotlib.figure.Figure at 0x20fc5598128>"
      ]
     },
     "metadata": {},
     "output_type": "display_data"
    }
   ],
   "source": [
    "n_sample_2 = r1050_v162['batch_id'].value_counts()\n",
    "all_162 = create_dic(n_sample_2,r1050_v162)\n",
    "first_sample_all_162 = first_analysis(all_162)\n",
    "plt.hist(first_sample_all_162)\n",
    "scipy.stats.describe(first_sample_all_162)"
   ]
  },
  {
   "cell_type": "markdown",
   "metadata": {},
   "source": [
    "For the first samples of batches that started in V162, we see a cluster around 2900-3000. However, there are alot that are well within the spec. This is not good. \n",
    "\n",
    "From further investigation, we found out that the batch was heating in V162 the entire time it was waiting on R1050. We changed the program such that it cools once it has completed low-ride.\n",
    "\n",
    "We are now interested in the data after we made this change."
   ]
  },
  {
   "cell_type": "code",
   "execution_count": 57,
   "metadata": {
    "collapsed": false
   },
   "outputs": [
    {
     "data": {
      "text/html": [
       "<div>\n",
       "<table border=\"1\" class=\"dataframe\">\n",
       "  <thead>\n",
       "    <tr style=\"text-align: right;\">\n",
       "      <th></th>\n",
       "      <th>date</th>\n",
       "      <th>time</th>\n",
       "      <th>batch_id</th>\n",
       "      <th>MW</th>\n",
       "    </tr>\n",
       "  </thead>\n",
       "  <tbody>\n",
       "    <tr>\n",
       "      <th>401</th>\n",
       "      <td>2017-01-23</td>\n",
       "      <td>17:33:00</td>\n",
       "      <td>FP7A0675</td>\n",
       "      <td>3774.0</td>\n",
       "    </tr>\n",
       "    <tr>\n",
       "      <th>402</th>\n",
       "      <td>2017-01-23</td>\n",
       "      <td>17:33:00</td>\n",
       "      <td>FP7A0675</td>\n",
       "      <td>3997.0</td>\n",
       "    </tr>\n",
       "    <tr>\n",
       "      <th>403</th>\n",
       "      <td>2017-01-29</td>\n",
       "      <td>06:20:39</td>\n",
       "      <td>FP7A0774</td>\n",
       "      <td>3234.0</td>\n",
       "    </tr>\n",
       "    <tr>\n",
       "      <th>404</th>\n",
       "      <td>2017-01-29</td>\n",
       "      <td>06:20:39</td>\n",
       "      <td>FP7A0774</td>\n",
       "      <td>3398.0</td>\n",
       "    </tr>\n",
       "    <tr>\n",
       "      <th>405</th>\n",
       "      <td>2017-01-29</td>\n",
       "      <td>06:20:39</td>\n",
       "      <td>FP7A0774</td>\n",
       "      <td>3413.0</td>\n",
       "    </tr>\n",
       "  </tbody>\n",
       "</table>\n",
       "</div>"
      ],
      "text/plain": [
       "          date      time  batch_id            MW\n",
       "401 2017-01-23  17:33:00  FP7A0675        3774.0\n",
       "402 2017-01-23  17:33:00  FP7A0675        3997.0\n",
       "403 2017-01-29  06:20:39  FP7A0774        3234.0\n",
       "404 2017-01-29  06:20:39  FP7A0774        3398.0\n",
       "405 2017-01-29  06:20:39  FP7A0774        3413.0"
      ]
     },
     "execution_count": 57,
     "metadata": {},
     "output_type": "execute_result"
    }
   ],
   "source": [
    "from datetime import datetime\n",
    "#batches after change 1/20\n",
    "df['date'] = pd.to_datetime(df['date'])\n",
    "df_change = df[df['date'] > datetime(2017,1,20)]\n",
    "df_change.head()"
   ]
  },
  {
   "cell_type": "code",
   "execution_count": 58,
   "metadata": {
    "collapsed": false
   },
   "outputs": [],
   "source": [
    "n_sample_1 = df_change['batch_id'].value_counts()\n",
    "df_change_dic =create_dic(n_sample_1,df_change)\n",
    "first_sample_20th = first_analysis(df_change_dic)"
   ]
  },
  {
   "cell_type": "code",
   "execution_count": 64,
   "metadata": {
    "collapsed": false
   },
   "outputs": [
    {
     "data": {
      "text/plain": [
       "DescribeResult(nobs=11, minmax=(2520.0, 4677.0), mean=3326.181818181818, variance=384857.96363636368, skewness=1.0174811036939584, kurtosis=0.1576864711827981)"
      ]
     },
     "execution_count": 64,
     "metadata": {},
     "output_type": "execute_result"
    },
    {
     "data": {
      "image/png": "[encoded data removed]",
      "text/plain": [
       "<matplotlib.figure.Figure at 0x20fc3cad0f0>"
      ]
     },
     "metadata": {},
     "output_type": "display_data"
    }
   ],
   "source": [
    "plt.hist(first_sample_20th)\n",
    "scipy.stats.describe(first_sample_20th)"
   ]
  },
  {
   "cell_type": "markdown",
   "metadata": {},
   "source": [
    "The data looks better with some outliers. We will filter further to those batches that just started in V162."
   ]
  },
  {
   "cell_type": "code",
   "execution_count": 99,
   "metadata": {
    "collapsed": false
   },
   "outputs": [
    {
     "data": {
      "text/plain": [
       "DescribeResult(nobs=6, minmax=(2520.0, 3234.0), mean=2965.0, variance=66853.600000000006, skewness=-0.7544076130023827, kurtosis=-0.4891700091625104)"
      ]
     },
     "execution_count": 99,
     "metadata": {},
     "output_type": "execute_result"
    },
    {
     "data": {
      "image/png": "[encoded data removed]",
      "text/plain": [
       "<matplotlib.figure.Figure at 0x20fc56fd240>"
      ]
     },
     "metadata": {},
     "output_type": "display_data"
    }
   ],
   "source": [
    "n_sample_1 = r1050_v162_20th['batch_id'].value_counts()\n",
    "r1050_v162_20th = df_change[df_change['batch_id'].isin(v162_batches)]\n",
    "\n",
    "df_change_v162_dic = create_dic(n_sample_1,r1050_v162_20th)\n",
    "first_sample_v162_20th = first_analysis(df_change_v162_dic)\n",
    "\n",
    "plt.hist(first_sample_v162_20th)\n",
    "scipy.stats.describe(first_sample_v162_20th)"
   ]
  },
  {
   "cell_type": "markdown",
   "metadata": {},
   "source": [
    "Looks much better, but the sample size is too small to draw real conclusions. Hopefully this trend continues."
   ]
  },
  {
   "cell_type": "code",
   "execution_count": null,
   "metadata": {
    "collapsed": true
   },
   "outputs": [],
   "source": []
  }
 ],
 "metadata": {
  "anaconda-cloud": {},
  "kernelspec": {
   "display_name": "Python [conda root]",
   "language": "python",
   "name": "conda-root-py"
  },
  "language_info": {
   "codemirror_mode": {
    "name": "ipython",
    "version": 3
   },
   "file_extension": ".py",
   "mimetype": "text/x-python",
   "name": "python",
   "nbconvert_exporter": "python",
   "pygments_lexer": "ipython3",
   "version": "3.5.2"
  }
 },
 "nbformat": 4,
 "nbformat_minor": 1
}
